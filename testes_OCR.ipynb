{
  "nbformat": 4,
  "nbformat_minor": 0,
  "metadata": {
    "colab": {
      "name": "testes_OCR.ipynb",
      "provenance": [],
      "collapsed_sections": [],
      "mount_file_id": "1JOOGH_DLd8Ydb-1zJzyvcz_NGYp_QR0n",
      "authorship_tag": "ABX9TyOT+LFvTU9EPEF2IOxnPhey",
      "include_colab_link": true
    },
    "kernelspec": {
      "name": "python3",
      "display_name": "Python 3"
    },
    "language_info": {
      "name": "python"
    }
  },
  "cells": [
    {
      "cell_type": "markdown",
      "metadata": {
        "id": "view-in-github",
        "colab_type": "text"
      },
      "source": [
        "<a href=\"https://colab.research.google.com/github/gomesGabriel/unip/blob/master/testes_OCR.ipynb\" target=\"_parent\"><img src=\"https://colab.research.google.com/assets/colab-badge.svg\" alt=\"Open In Colab\"/></a>"
      ]
    },
    {
      "cell_type": "code",
      "source": [
        "!sudo apt install tesseract-ocr\n",
        "!pip install pytesseract\n",
        "!pip install opencv-contrib-python --upgrade"
      ],
      "metadata": {
        "id": "FjSTMJkr4cjy"
      },
      "execution_count": null,
      "outputs": []
    },
    {
      "cell_type": "code",
      "source": [
        "from glob import glob\n",
        "import cv2\n",
        "import matplotlib.pyplot as plt\n",
        "import os\n",
        "import pytesseract\n",
        "from matplotlib import pyplot as plt\n",
        "import numpy as np\n",
        "from google.colab.patches import cv2_imshow\n",
        "from collections import Counter"
      ],
      "metadata": {
        "id": "gz7dY5h3CEO7"
      },
      "execution_count": null,
      "outputs": []
    },
    {
      "cell_type": "code",
      "source": [
        "#Função que analisa letra que mais aparece dentro dos resultados\n",
        "def retornaTexto(lista,repeticoes):\n",
        "    caracteres = ''\n",
        "    for i in range(repeticoes):\n",
        "        letra = []\n",
        "        for texto in lista:\n",
        "            letra.append(texto[i]) #Pega a letra da mesma posição dos resultados e armazena em uma lista.\n",
        "        letraStr = ''.join(map(str, letra)) #Transforma a lista em uma string.\n",
        "        contador = Counter(letraStr) #Roda a função para gerar um dicionario contendo o caracter e a qtd de vezes que aparece.\n",
        "        quantidade = 0\n",
        "        for letra, qtd in contador.items(): #Estrutura que irá retornar o caracter que mais aparece.\n",
        "            if qtd > quantidade:\n",
        "                quantidade = qtd\n",
        "                caracterOk = letra\n",
        "        caracteres = caracteres + caracterOk\n",
        "    return caracteres"
      ],
      "metadata": {
        "id": "cYXEYlbVs4yk"
      },
      "execution_count": null,
      "outputs": []
    },
    {
      "cell_type": "code",
      "source": [
        "def analisaResultado(lista):\n",
        "  #--------------------------------------------------------------------------------------------------------------#\n",
        "  #------------------------------Inicia processo de analisar o resultado da leitura------------------------------#\n",
        "  textoFinal = ''\n",
        "  novalistaLetras = []\n",
        "  novalistaNumeros = []\n",
        "  #---------------------------------------------------------------------------------------------------------------\n",
        "  for texto in lista:\n",
        "      #Valida os caracteres e armazena só oque estiver dentro do padrão\n",
        "      codigo = texto.replace(' ','')\n",
        "      codigo = codigo.replace('\\n\\x0c','')\n",
        "      texto = codigo[0:4]\n",
        "      retorno = texto.isalpha()\n",
        "      if(len(texto)<4):\n",
        "        pass\n",
        "      elif(retorno == True):\n",
        "        novalistaLetras.append(texto)\n",
        "      \n",
        "      #Valida os números e armazena só oque estiver dentro do padrão\n",
        "      texto = codigo[-7::]\n",
        "      retorno = texto.isdigit()\n",
        "      if(len(texto)<7):\n",
        "        pass\n",
        "      elif(retorno == True):\n",
        "          novalistaNumeros.append(codigo[-7::])\n",
        "\n",
        "  textoFinal = textoFinal + retornaTexto(novalistaLetras,4)\n",
        "  textoFinal = textoFinal + retornaTexto(novalistaNumeros,7)\n",
        "\n",
        "  return(textoFinal) "
      ],
      "metadata": {
        "id": "Lvx42H5iqJyY"
      },
      "execution_count": null,
      "outputs": []
    },
    {
      "cell_type": "code",
      "source": [
        "def aumentaResolucao(img):\n",
        "  sr = cv2.dnn_superres.DnnSuperResImpl_create()\n",
        "  path = \"/content/EDSR_x4.pb\"\n",
        "  sr.readModel(path)\n",
        "  sr.setModel(\"edsr\",4)\n",
        "  result = sr.upsample(img)\n",
        "  # Resized image\n",
        "  resized = cv2.resize(img,dsize=None,fx=4,fy=4)\n",
        "  # plt.figure(figsize=(12,8))\n",
        "  # plt.subplot(1,3,1)\n",
        "  # # Original image\n",
        "  # plt.imshow(img[:,:,::-1])\n",
        "  # plt.subplot(1,3,2)\n",
        "  # # SR upscaled\n",
        "  # plt.imshow(result[:,:,::-1])\n",
        "  # plt.subplot(1,3,3)\n",
        "  # # OpenCV upscaled\n",
        "  # plt.imshow(resized[:,:,::-1])\n",
        "  # plt.show()\n",
        "  return result"
      ],
      "metadata": {
        "id": "P8KB3eU815df"
      },
      "execution_count": null,
      "outputs": []
    },
    {
      "cell_type": "code",
      "source": [
        "def trocaCorLetra(newImg,x,y):\n",
        "  for i in range(len(newImg[0:x,0:y])):\n",
        "    for j in range(len(newImg[0:x,0:y][i])):\n",
        "      if((newImg[0:x,0:y][i][j][0]) > 210 and (newImg[0:x,0:y][i][j][1]) > 210 and (newImg[0:x,0:y][i][j][2]) > 210): #Parâmetro que troca a cor do pixel para preto. (Quanto maior, mais fina fica a letra) \n",
        "        newImg[0:x,0:y][i][j][0] = 0\n",
        "        newImg[0:x,0:y][i][j][1] = 0\n",
        "        newImg[0:x,0:y][i][j][2] = 0\n",
        "  return (newImg)"
      ],
      "metadata": {
        "id": "GprhJ4Y3DBJm"
      },
      "execution_count": null,
      "outputs": []
    },
    {
      "cell_type": "code",
      "metadata": {
        "id": "LQEkoq285rAq"
      },
      "source": [
        "def ocr(img,padrao,valor):\n",
        "  imgOk = 0\n",
        "  angulo = 0\n",
        "  #Verificar se a imagem tem letra branca. Caso sim, troca pra preto.\n",
        "  if(padrao == 0):\n",
        "    x,y,pixels = np.shape(img)\n",
        "    newImg = cv2.convertScaleAbs(img, alpha=1, beta=50) #Aumenta brilho e contraste\n",
        "    newImg = trocaCorLetra(newImg,x,y)\n",
        "    loopingThresh = 1\n",
        "  else:\n",
        "    newImg = img\n",
        "    loopingThresh = 5\n",
        "  \n",
        "  cv2.imwrite(os.path.join('/content','ImagemNova.jpg'), newImg) #Coloca a nova imagem na pasta\n",
        "\n",
        "  im_gray = cv2.imread('/content/ImagemNova.jpg', cv2.IMREAD_GRAYSCALE)\n",
        "  altura, largura = im_gray.shape[:2]\n",
        "  cv2.waitKey(0)\n",
        "  ponto = (largura / 2, altura / 2) #ponto no centro da figura\n",
        "\n",
        "  for i in range(4): #Looping referente a rotação da imagem\n",
        "    valorThresh = valor\n",
        "    lista = []\n",
        "    for i in range(loopingThresh): #looping responsável por aumentar o valor de thresh\n",
        "      rotacao = cv2.getRotationMatrix2D(ponto, angulo, 1.0) #Rotação da imagem para ajudar o tesseract a reconhecer melhor a imagem\n",
        "      rotacionado = cv2.warpAffine(im_gray, rotacao, (largura, altura))\n",
        "      cv2.waitKey(0)\n",
        "      thresh = valorThresh \n",
        "      img = cv2.threshold(rotacionado, thresh, 255, cv2.THRESH_BINARY)[1]\n",
        "      #---------------------------------------------------------------------------\n",
        "      element_estr = cv2.getStructuringElement(cv2.MORPH_CROSS,(1,2)) #Ficou bom na matriz 1,2\n",
        "      img_process = cv2.dilate(img, element_estr, iterations = 1)\n",
        "      img_process2 = cv2.erode(img_process, element_estr, iterations = 2)\n",
        "      \n",
        "      cv2.imwrite(os.path.join('/content/Resultado','ImagemNova%04i.jpg' %i), img)\n",
        "      if padrao == 0:\n",
        "        valorThresh += 0\n",
        "      else:\n",
        "        valorThresh += 10\n",
        "\n",
        "\n",
        "    #Esse looping analisa as imagens geradas do processamento de imagem usando o pytesseract\n",
        "    for i in range(loopingThresh):\n",
        "      config = r'--oem 3 --psm 6' \n",
        "      resultado = pytesseract.image_to_string('/content/Resultado/ImagemNova%04i.jpg' %i,config=config)\n",
        "      #print(resultado)\n",
        "      lista.append(resultado)\n",
        "\n",
        "    try:\n",
        "      texto = analisaResultado(lista)\n",
        "      print(texto)\n",
        "      imgOk += 1\n",
        "    except Exception:\n",
        "      print('Não encontrado')\n",
        "\n",
        "    angulo -= 0.3\n",
        "  return(imgOk)"
      ],
      "execution_count": null,
      "outputs": []
    },
    {
      "cell_type": "code",
      "source": [
        "img=cv2.imread('/content/ctnr (16).jpg')\n",
        "#img = aumentaResolucao(img)\n",
        "resultado = ocr(img,0,1)\n",
        "if(resultado == 0):\n",
        "  ocr(img,1,30)"
      ],
      "metadata": {
        "id": "3l-xF0rb0vZr"
      },
      "execution_count": null,
      "outputs": []
    }
  ]
}